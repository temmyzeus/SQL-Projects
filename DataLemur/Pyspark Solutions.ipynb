{
 "cells": [
  {
   "cell_type": "code",
   "execution_count": 1,
   "id": "cd989c72-fda5-4333-ae30-c741cc2ae510",
   "metadata": {},
   "outputs": [],
   "source": [
    "from pyspark.sql import SparkSession\n",
    "import pyspark.sql.functions as F\n",
    "from pyspark.sql.types import (\n",
    "    StructField, \n",
    "    StructType,\n",
    "    StringType,\n",
    "    IntegerType\n",
    ")"
   ]
  },
  {
   "cell_type": "code",
   "execution_count": 2,
   "id": "a961a4e8-d338-421d-a69f-93fe47fa166c",
   "metadata": {},
   "outputs": [
    {
     "data": {
      "text/html": [
       "\n",
       "            <div>\n",
       "                <p><b>SparkSession - in-memory</b></p>\n",
       "                \n",
       "        <div>\n",
       "            <p><b>SparkContext</b></p>\n",
       "\n",
       "            <p><a href=\"http://192.168.1.103:4040\">Spark UI</a></p>\n",
       "\n",
       "            <dl>\n",
       "              <dt>Version</dt>\n",
       "                <dd><code>v3.3.0</code></dd>\n",
       "              <dt>Master</dt>\n",
       "                <dd><code>local[2]</code></dd>\n",
       "              <dt>AppName</dt>\n",
       "                <dd><code>DataLemur SQL</code></dd>\n",
       "            </dl>\n",
       "        </div>\n",
       "        \n",
       "            </div>\n",
       "        "
      ],
      "text/plain": [
       "<pyspark.sql.session.SparkSession at 0x7f9ee8287ac0>"
      ]
     },
     "execution_count": 2,
     "metadata": {},
     "output_type": "execute_result"
    }
   ],
   "source": [
    "spark = SparkSession.builder.master(\"local[2]\").appName(\"DataLemur SQL\").getOrCreate()\n",
    "spark"
   ]
  },
  {
   "cell_type": "markdown",
   "id": "94204783-0fc0-49cd-ad8e-32fad9df37ad",
   "metadata": {},
   "source": [
    "# Compensation Outliers\n",
    "#### [DataLemur URL](https://datalemur.com/questions/compensation-outliers)\n",
    "#### [SQL Solution URL](https://github.com/temmyzeus/SQL-Projects/tree/master/DataLemur#compensation-outliers--httpsdatalemurcomquestionscompensation-outliers)"
   ]
  },
  {
   "cell_type": "code",
   "execution_count": 3,
   "id": "4e5eacb7-5360-4e8a-a82e-27baab5df963",
   "metadata": {},
   "outputs": [],
   "source": [
    "schema = StructType([\n",
    "    StructField(\"employee_id\", IntegerType(), nullable=False),\n",
    "    StructField(\"salary\", IntegerType(), nullable=False),\n",
    "    StructField(\"title\", StringType(), nullable=False)\n",
    "])\n",
    "\n",
    "compensation_df = spark.createDataFrame(\n",
    "    (\n",
    "        (101, 80000, \"Data Analyst\"),\n",
    "        (102, 90000, \"Data Analyst\"),\n",
    "        (103, 100000, \"Data Analyst\"),\n",
    "        (104, 30000, \"Data Analyst\"),\n",
    "        (105, 120000, \"Data Scientist\"),\n",
    "        (106, 100000, \"Data Scientist\"),\n",
    "        (107, 80000, \"Data Scientist\"),\n",
    "        (108, 310000, \"Data Scientist\"),\n",
    "        (109, 60000, \"Python Developer\"),\n",
    "        (110, 70000, \"Python Developer\"),\n",
    "        (111, 200000, \"Python Developer\"),\n",
    "        (112, 25000, \"Python Developer\")\n",
    "    ),\n",
    "    schema=schema\n",
    ")"
   ]
  },
  {
   "cell_type": "code",
   "execution_count": 4,
   "id": "5ef3f347-7b43-42b6-a179-6e367f19528d",
   "metadata": {},
   "outputs": [
    {
     "name": "stdout",
     "output_type": "stream",
     "text": [
      "+-----------+------+----------------+\n",
      "|employee_id|salary|           title|\n",
      "+-----------+------+----------------+\n",
      "|        101| 80000|    Data Analyst|\n",
      "|        102| 90000|    Data Analyst|\n",
      "|        103|100000|    Data Analyst|\n",
      "|        104| 30000|    Data Analyst|\n",
      "|        105|120000|  Data Scientist|\n",
      "|        106|100000|  Data Scientist|\n",
      "|        107| 80000|  Data Scientist|\n",
      "|        108|310000|  Data Scientist|\n",
      "|        109| 60000|Python Developer|\n",
      "|        110| 70000|Python Developer|\n",
      "|        111|200000|Python Developer|\n",
      "|        112| 25000|Python Developer|\n",
      "+-----------+------+----------------+\n",
      "\n"
     ]
    }
   ],
   "source": [
    "compensation_df.show()"
   ]
  },
  {
   "cell_type": "markdown",
   "id": "7cc2706e-3bf9-46af-8151-b2ac1336dfab",
   "metadata": {},
   "source": [
    "## Method 1"
   ]
  },
  {
   "cell_type": "code",
   "execution_count": 5,
   "id": "fdc3487a-eaee-4660-a36a-8ff601b3c8fb",
   "metadata": {},
   "outputs": [
    {
     "name": "stdout",
     "output_type": "stream",
     "text": [
      "+----------------+--------------------+\n",
      "|           title|avg_salary_per_title|\n",
      "+----------------+--------------------+\n",
      "|  Data Scientist|            152500.0|\n",
      "|    Data Analyst|             75000.0|\n",
      "|Python Developer|             88750.0|\n",
      "+----------------+--------------------+\n",
      "\n",
      "+----------------+-----------+------+--------------------+\n",
      "|           title|employee_id|salary|avg_salary_per_title|\n",
      "+----------------+-----------+------+--------------------+\n",
      "|  Data Scientist|        105|120000|            152500.0|\n",
      "|  Data Scientist|        106|100000|            152500.0|\n",
      "|    Data Analyst|        101| 80000|             75000.0|\n",
      "|    Data Analyst|        102| 90000|             75000.0|\n",
      "|    Data Analyst|        103|100000|             75000.0|\n",
      "|    Data Analyst|        104| 30000|             75000.0|\n",
      "|Python Developer|        109| 60000|             88750.0|\n",
      "|Python Developer|        110| 70000|             88750.0|\n",
      "|Python Developer|        111|200000|             88750.0|\n",
      "|Python Developer|        112| 25000|             88750.0|\n",
      "|  Data Scientist|        107| 80000|            152500.0|\n",
      "|  Data Scientist|        108|310000|            152500.0|\n",
      "+----------------+-----------+------+--------------------+\n",
      "\n",
      "+----------------+-----------+------+--------------------+---------+\n",
      "|           title|employee_id|salary|avg_salary_per_title|   status|\n",
      "+----------------+-----------+------+--------------------+---------+\n",
      "|  Data Scientist|        105|120000|            152500.0|   Normal|\n",
      "|  Data Scientist|        106|100000|            152500.0|   Normal|\n",
      "|    Data Analyst|        101| 80000|             75000.0|   Normal|\n",
      "|    Data Analyst|        102| 90000|             75000.0|   Normal|\n",
      "|    Data Analyst|        103|100000|             75000.0|   Normal|\n",
      "|    Data Analyst|        104| 30000|             75000.0|Underpaid|\n",
      "|Python Developer|        109| 60000|             88750.0|   Normal|\n",
      "|Python Developer|        110| 70000|             88750.0|   Normal|\n",
      "|Python Developer|        111|200000|             88750.0| Overpaid|\n",
      "|Python Developer|        112| 25000|             88750.0|Underpaid|\n",
      "|  Data Scientist|        107| 80000|            152500.0|   Normal|\n",
      "|  Data Scientist|        108|310000|            152500.0| Overpaid|\n",
      "+----------------+-----------+------+--------------------+---------+\n",
      "\n"
     ]
    }
   ],
   "source": [
    "avg_salaries_per_title = compensation_df.groupBy(\"title\").avg(\"salary\").withColumnRenamed(\"avg(salary)\", \"avg_salary_per_title\")\n",
    "compensation_w_avg_salaries_per_title =  compensation_df.join(avg_salaries_per_title, on=[\"title\"], how=\"left\")\n",
    "\n",
    "compensation_w_status = compensation_w_avg_salaries_per_title.withColumn(\n",
    "    \"status\",\n",
    "    F.when(\n",
    "        compensation_w_avg_salaries_per_title.salary > (2*compensation_w_avg_salaries_per_title.avg_salary_per_title),\n",
    "        \"Overpaid\"\n",
    "    ).when(\n",
    "         compensation_w_avg_salaries_per_title.salary < (0.5*compensation_w_avg_salaries_per_title.avg_salary_per_title),\n",
    "        \"Underpaid\"\n",
    "    ).otherwise(\"Normal\")\n",
    ")\n",
    "\n",
    "avg_salaries_per_title.show()\n",
    "compensation_w_avg_salaries_per_title.show()\n",
    "compensation_w_status.show()"
   ]
  },
  {
   "cell_type": "code",
   "execution_count": 6,
   "id": "40d90457-98a2-490f-a76c-fb813d056539",
   "metadata": {},
   "outputs": [
    {
     "name": "stdout",
     "output_type": "stream",
     "text": [
      "+-----------+------+---------+\n",
      "|employee_id|salary|   status|\n",
      "+-----------+------+---------+\n",
      "|        104| 30000|Underpaid|\n",
      "|        111|200000| Overpaid|\n",
      "|        112| 25000|Underpaid|\n",
      "|        108|310000| Overpaid|\n",
      "+-----------+------+---------+\n",
      "\n"
     ]
    }
   ],
   "source": [
    "compensation_w_status.where(compensation_w_status.status != \"Normal\").select(\"employee_id\", \"salary\", \"status\").show()"
   ]
  },
  {
   "cell_type": "markdown",
   "id": "e2a55792-d4d6-4071-a39f-79773adb2425",
   "metadata": {},
   "source": [
    "## Method 2"
   ]
  },
  {
   "cell_type": "code",
   "execution_count": 7,
   "id": "4766818f-c858-48e4-9322-80edbc45cf02",
   "metadata": {},
   "outputs": [
    {
     "name": "stdout",
     "output_type": "stream",
     "text": [
      "+----------------+--------------------+\n",
      "|           title|avg_salary_per_title|\n",
      "+----------------+--------------------+\n",
      "|  Data Scientist|            152500.0|\n",
      "|    Data Analyst|             75000.0|\n",
      "|Python Developer|             88750.0|\n",
      "+----------------+--------------------+\n",
      "\n",
      "+----------------+-----------+------+--------------------+\n",
      "|           title|employee_id|salary|avg_salary_per_title|\n",
      "+----------------+-----------+------+--------------------+\n",
      "|  Data Scientist|        105|120000|            152500.0|\n",
      "|  Data Scientist|        106|100000|            152500.0|\n",
      "|    Data Analyst|        101| 80000|             75000.0|\n",
      "|    Data Analyst|        102| 90000|             75000.0|\n",
      "|    Data Analyst|        103|100000|             75000.0|\n",
      "|    Data Analyst|        104| 30000|             75000.0|\n",
      "|Python Developer|        109| 60000|             88750.0|\n",
      "|Python Developer|        110| 70000|             88750.0|\n",
      "|Python Developer|        111|200000|             88750.0|\n",
      "|Python Developer|        112| 25000|             88750.0|\n",
      "|  Data Scientist|        107| 80000|            152500.0|\n",
      "|  Data Scientist|        108|310000|            152500.0|\n",
      "+----------------+-----------+------+--------------------+\n",
      "\n",
      "+----------------+-----------+------+--------------------+---------+\n",
      "|           title|employee_id|salary|avg_salary_per_title|   status|\n",
      "+----------------+-----------+------+--------------------+---------+\n",
      "|  Data Scientist|        105|120000|            152500.0|   Normal|\n",
      "|  Data Scientist|        106|100000|            152500.0|   Normal|\n",
      "|    Data Analyst|        101| 80000|             75000.0|   Normal|\n",
      "|    Data Analyst|        102| 90000|             75000.0|   Normal|\n",
      "|    Data Analyst|        103|100000|             75000.0|   Normal|\n",
      "|    Data Analyst|        104| 30000|             75000.0|Underpaid|\n",
      "|Python Developer|        109| 60000|             88750.0|   Normal|\n",
      "|Python Developer|        110| 70000|             88750.0|   Normal|\n",
      "|Python Developer|        111|200000|             88750.0| Overpaid|\n",
      "|Python Developer|        112| 25000|             88750.0|Underpaid|\n",
      "|  Data Scientist|        107| 80000|            152500.0|   Normal|\n",
      "|  Data Scientist|        108|310000|            152500.0| Overpaid|\n",
      "+----------------+-----------+------+--------------------+---------+\n",
      "\n"
     ]
    }
   ],
   "source": [
    "avg_salaries_per_title = compensation_df.groupBy(\"title\").avg(\"salary\").withColumnRenamed(\"avg(salary)\", \"avg_salary_per_title\")\n",
    "compensation_w_avg_salaries_per_title =  compensation_df.join(avg_salaries_per_title, on=[\"title\"], how=\"left\")\n",
    "\n",
    "compensation_w_status_2 = compensation_w_avg_salaries_per_title.select(\n",
    "    compensation_w_avg_salaries_per_title.employee_id,\n",
    "    compensation_w_avg_salaries_per_title.salary,\n",
    "    F.when(\n",
    "        compensation_w_avg_salaries_per_title.salary > (2*compensation_w_avg_salaries_per_title.avg_salary_per_title),\n",
    "        \"Overpaid\"\n",
    "    ).when(\n",
    "         compensation_w_avg_salaries_per_title.salary < (0.5*compensation_w_avg_salaries_per_title.avg_salary_per_title),\n",
    "        \"Underpaid\"\n",
    "    ).otherwise(\"Normal\").alias(\"status\")\n",
    ")\n",
    "\n",
    "avg_salaries_per_title.show()\n",
    "compensation_w_avg_salaries_per_title.show()\n",
    "compensation_w_status.show()"
   ]
  },
  {
   "cell_type": "code",
   "execution_count": 8,
   "id": "8537aa35-294d-4a5b-a563-902ff79fea67",
   "metadata": {},
   "outputs": [
    {
     "name": "stdout",
     "output_type": "stream",
     "text": [
      "+-----------+------+---------+\n",
      "|employee_id|salary|   status|\n",
      "+-----------+------+---------+\n",
      "|        104| 30000|Underpaid|\n",
      "|        111|200000| Overpaid|\n",
      "|        112| 25000|Underpaid|\n",
      "|        108|310000| Overpaid|\n",
      "+-----------+------+---------+\n",
      "\n"
     ]
    }
   ],
   "source": [
    "compensation_w_status_2.where(compensation_w_status_2.status != \"Normal\").show()"
   ]
  },
  {
   "cell_type": "code",
   "execution_count": 9,
   "id": "85a099dd-134f-4b8f-b67e-545e1275fbba",
   "metadata": {},
   "outputs": [],
   "source": [
    "spark.stop()"
   ]
  }
 ],
 "metadata": {
  "kernelspec": {
   "display_name": "Python 3",
   "language": "python",
   "name": "python3"
  },
  "language_info": {
   "codemirror_mode": {
    "name": "ipython",
    "version": 3
   },
   "file_extension": ".py",
   "mimetype": "text/x-python",
   "name": "python",
   "nbconvert_exporter": "python",
   "pygments_lexer": "ipython3",
   "version": "3.9.1"
  }
 },
 "nbformat": 4,
 "nbformat_minor": 5
}
